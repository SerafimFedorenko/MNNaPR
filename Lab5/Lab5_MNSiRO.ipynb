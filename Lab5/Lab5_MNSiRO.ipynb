{
 "cells": [
  {
   "cell_type": "code",
   "execution_count": 1,
   "id": "a5235bed",
   "metadata": {},
   "outputs": [],
   "source": [
    "import numpy as np\n",
    "import pandas as pd\n",
    "import tensorflow as tf\n",
    "from tensorflow import keras\n",
    "import matplotlib.pyplot as plt\n",
    "from keras.utils import to_categorical\n",
    "from keras.layers import Dense, Input, Flatten, Dropout, SimpleRNN, TextVectorization, Embedding\n",
    "from keras.models import Sequential, Model\n",
    "from sklearn.model_selection import train_test_split"
   ]
  },
  {
   "cell_type": "code",
   "execution_count": 2,
   "id": "13133109",
   "metadata": {},
   "outputs": [
    {
     "data": {
      "text/html": [
       "<div>\n",
       "<style scoped>\n",
       "    .dataframe tbody tr th:only-of-type {\n",
       "        vertical-align: middle;\n",
       "    }\n",
       "\n",
       "    .dataframe tbody tr th {\n",
       "        vertical-align: top;\n",
       "    }\n",
       "\n",
       "    .dataframe thead th {\n",
       "        text-align: right;\n",
       "    }\n",
       "</style>\n",
       "<table border=\"1\" class=\"dataframe\">\n",
       "  <thead>\n",
       "    <tr style=\"text-align: right;\">\n",
       "      <th></th>\n",
       "      <th>label</th>\n",
       "      <th>sms</th>\n",
       "    </tr>\n",
       "  </thead>\n",
       "  <tbody>\n",
       "    <tr>\n",
       "      <th>0</th>\n",
       "      <td>ham</td>\n",
       "      <td>Go until jurong point, crazy.. Available only ...</td>\n",
       "    </tr>\n",
       "    <tr>\n",
       "      <th>1</th>\n",
       "      <td>ham</td>\n",
       "      <td>Ok lar... Joking wif u oni...</td>\n",
       "    </tr>\n",
       "    <tr>\n",
       "      <th>2</th>\n",
       "      <td>spam</td>\n",
       "      <td>Free entry in 2 a wkly comp to win FA Cup fina...</td>\n",
       "    </tr>\n",
       "    <tr>\n",
       "      <th>3</th>\n",
       "      <td>ham</td>\n",
       "      <td>U dun say so early hor... U c already then say...</td>\n",
       "    </tr>\n",
       "    <tr>\n",
       "      <th>4</th>\n",
       "      <td>ham</td>\n",
       "      <td>Nah I don't think he goes to usf, he lives aro...</td>\n",
       "    </tr>\n",
       "  </tbody>\n",
       "</table>\n",
       "</div>"
      ],
      "text/plain": [
       "  label                                                sms\n",
       "0   ham  Go until jurong point, crazy.. Available only ...\n",
       "1   ham                      Ok lar... Joking wif u oni...\n",
       "2  spam  Free entry in 2 a wkly comp to win FA Cup fina...\n",
       "3   ham  U dun say so early hor... U c already then say...\n",
       "4   ham  Nah I don't think he goes to usf, he lives aro..."
      ]
     },
     "execution_count": 2,
     "metadata": {},
     "output_type": "execute_result"
    }
   ],
   "source": [
    "path = 'D:\\Лабы 3 курс\\МНСиРО\\Lab5\\spam.csv'\n",
    "df = pd.read_csv(path, on_bad_lines=\"skip\", encoding=\"ISO-8859-1\")\n",
    "df = df.drop([\"Unnamed: 2\", \"Unnamed: 3\", \"Unnamed: 4\"], axis=1)\n",
    "df.columns = [\"label\", \"sms\"]\n",
    "df.head()"
   ]
  },
  {
   "cell_type": "code",
   "execution_count": 3,
   "id": "b94a5944",
   "metadata": {},
   "outputs": [
    {
     "data": {
      "text/html": [
       "<div>\n",
       "<style scoped>\n",
       "    .dataframe tbody tr th:only-of-type {\n",
       "        vertical-align: middle;\n",
       "    }\n",
       "\n",
       "    .dataframe tbody tr th {\n",
       "        vertical-align: top;\n",
       "    }\n",
       "\n",
       "    .dataframe thead th {\n",
       "        text-align: right;\n",
       "    }\n",
       "</style>\n",
       "<table border=\"1\" class=\"dataframe\">\n",
       "  <thead>\n",
       "    <tr style=\"text-align: right;\">\n",
       "      <th></th>\n",
       "      <th>label</th>\n",
       "      <th>sms</th>\n",
       "    </tr>\n",
       "  </thead>\n",
       "  <tbody>\n",
       "    <tr>\n",
       "      <th>0</th>\n",
       "      <td>ham</td>\n",
       "      <td>Go until jurong point, crazy.. Available only ...</td>\n",
       "    </tr>\n",
       "    <tr>\n",
       "      <th>1</th>\n",
       "      <td>ham</td>\n",
       "      <td>Ok lar... Joking wif u oni...</td>\n",
       "    </tr>\n",
       "    <tr>\n",
       "      <th>2</th>\n",
       "      <td>spam</td>\n",
       "      <td>Free entry in 2 a wkly comp to win FA Cup fina...</td>\n",
       "    </tr>\n",
       "    <tr>\n",
       "      <th>3</th>\n",
       "      <td>ham</td>\n",
       "      <td>U dun say so early hor... U c already then say...</td>\n",
       "    </tr>\n",
       "    <tr>\n",
       "      <th>4</th>\n",
       "      <td>ham</td>\n",
       "      <td>Nah I don't think he goes to usf, he lives aro...</td>\n",
       "    </tr>\n",
       "  </tbody>\n",
       "</table>\n",
       "</div>"
      ],
      "text/plain": [
       "  label                                                sms\n",
       "0   ham  Go until jurong point, crazy.. Available only ...\n",
       "1   ham                      Ok lar... Joking wif u oni...\n",
       "2  spam  Free entry in 2 a wkly comp to win FA Cup fina...\n",
       "3   ham  U dun say so early hor... U c already then say...\n",
       "4   ham  Nah I don't think he goes to usf, he lives aro..."
      ]
     },
     "execution_count": 3,
     "metadata": {},
     "output_type": "execute_result"
    }
   ],
   "source": [
    "df.head()"
   ]
  },
  {
   "cell_type": "code",
   "execution_count": 4,
   "id": "a28eafc8",
   "metadata": {},
   "outputs": [
    {
     "name": "stdout",
     "output_type": "stream",
     "text": [
      "[[1. 0.]\n",
      " [1. 0.]\n",
      " [0. 1.]\n",
      " ...\n",
      " [1. 0.]\n",
      " [1. 0.]\n",
      " [1. 0.]]\n"
     ]
    }
   ],
   "source": [
    "num_labels = []\n",
    "for label in df['label']:\n",
    "    if label == 'ham':\n",
    "        num_labels.append(0)\n",
    "    else:\n",
    "        num_labels.append(1)\n",
    "\n",
    "y_full = np.array(num_labels)\n",
    "y_full = to_categorical(y_full, 2)\n",
    "print(y_full)"
   ]
  },
  {
   "cell_type": "code",
   "execution_count": 5,
   "id": "2f192ab6",
   "metadata": {},
   "outputs": [],
   "source": [
    "MAX_TOKENS_NUM = 5000\n",
    "MAX_SEQUENCE_LEN = 40\n",
    "EMBEDDING_DIMS = 100\n",
    "\n",
    "vectorize_layer = TextVectorization(\n",
    "  max_tokens=MAX_TOKENS_NUM,\n",
    "  output_mode='int',\n",
    "  output_sequence_length=MAX_SEQUENCE_LEN)\n",
    "vectorize_layer.adapt(df['sms'])"
   ]
  },
  {
   "cell_type": "code",
   "execution_count": 6,
   "id": "897c508d",
   "metadata": {},
   "outputs": [],
   "source": [
    "x_full = np.array(df['sms'])"
   ]
  },
  {
   "cell_type": "code",
   "execution_count": 7,
   "id": "c4d54102",
   "metadata": {},
   "outputs": [],
   "source": [
    "(x_train, x_test, y_train, y_test) = train_test_split(x_full, y_full, test_size=0.2, random_state=42)"
   ]
  },
  {
   "cell_type": "code",
   "execution_count": 8,
   "id": "245a697a",
   "metadata": {},
   "outputs": [
    {
     "name": "stdout",
     "output_type": "stream",
     "text": [
      "(4457,)\n",
      "(1115,)\n",
      "(4457, 2)\n",
      "(1115, 2)\n"
     ]
    }
   ],
   "source": [
    "print(x_train.shape)\n",
    "print(x_test.shape)\n",
    "print(y_train.shape)\n",
    "print(y_test.shape)"
   ]
  },
  {
   "cell_type": "code",
   "execution_count": 9,
   "id": "78e6f3c2",
   "metadata": {
    "scrolled": true
   },
   "outputs": [
    {
     "name": "stdout",
     "output_type": "stream",
     "text": [
      "Model: \"sequential\"\n",
      "_________________________________________________________________\n",
      " Layer (type)                Output Shape              Param #   \n",
      "=================================================================\n",
      " text_vectorization (TextVec  (None, 40)               0         \n",
      " torization)                                                     \n",
      "                                                                 \n",
      " embedding (Embedding)       (None, 40, 100)           500100    \n",
      "                                                                 \n",
      " simple_rnn (SimpleRNN)      (None, 64)                10560     \n",
      "                                                                 \n",
      " dense (Dense)               (None, 2)                 130       \n",
      "                                                                 \n",
      "=================================================================\n",
      "Total params: 510,790\n",
      "Trainable params: 510,790\n",
      "Non-trainable params: 0\n",
      "_________________________________________________________________\n"
     ]
    }
   ],
   "source": [
    "model = Sequential()\n",
    "model.add(tf.keras.Input(shape=(1,), dtype=tf.string))\n",
    "model.add(vectorize_layer)\n",
    "model.add(Embedding(MAX_TOKENS_NUM + 1, EMBEDDING_DIMS))\n",
    "model.add(SimpleRNN(64, activation = 'ReLU'))\n",
    "# model.add(Flatten())\n",
    "model.add(Dense(2, activation = 'ReLU'))\n",
    "model.summary()"
   ]
  },
  {
   "cell_type": "code",
   "execution_count": 10,
   "id": "8948e4c3",
   "metadata": {},
   "outputs": [],
   "source": [
    "optimizer = tf.keras.optimizers.Adamax(learning_rate=0.001)\n",
    "model.compile(loss='MSE', optimizer=optimizer, metrics = ['accuracy'])"
   ]
  },
  {
   "cell_type": "code",
   "execution_count": 11,
   "id": "4014da5a",
   "metadata": {},
   "outputs": [
    {
     "name": "stdout",
     "output_type": "stream",
     "text": [
      "Epoch 1/25\n",
      "56/56 [==============================] - 3s 22ms/step - loss: 0.4880 - accuracy: 0.1428 - val_loss: 0.4251 - val_accuracy: 0.1570\n",
      "Epoch 2/25\n",
      "56/56 [==============================] - 1s 16ms/step - loss: 0.1881 - accuracy: 0.8533 - val_loss: 0.1236 - val_accuracy: 0.8621\n",
      "Epoch 3/25\n",
      "56/56 [==============================] - 1s 16ms/step - loss: 0.1186 - accuracy: 0.8670 - val_loss: 0.1211 - val_accuracy: 0.8621\n",
      "Epoch 4/25\n",
      "56/56 [==============================] - 1s 16ms/step - loss: 0.1139 - accuracy: 0.8670 - val_loss: 0.1155 - val_accuracy: 0.8621\n",
      "Epoch 5/25\n",
      "56/56 [==============================] - 1s 16ms/step - loss: 0.1063 - accuracy: 0.8670 - val_loss: 0.1105 - val_accuracy: 0.8621\n",
      "Epoch 6/25\n",
      "56/56 [==============================] - 1s 16ms/step - loss: 0.0907 - accuracy: 0.8676 - val_loss: 0.0845 - val_accuracy: 0.8700\n",
      "Epoch 7/25\n",
      "56/56 [==============================] - 1s 16ms/step - loss: 0.0580 - accuracy: 0.9259 - val_loss: 0.0526 - val_accuracy: 0.9462\n",
      "Epoch 8/25\n",
      "56/56 [==============================] - 1s 16ms/step - loss: 0.0297 - accuracy: 0.9734 - val_loss: 0.0312 - val_accuracy: 0.9697\n",
      "Epoch 9/25\n",
      "56/56 [==============================] - 1s 17ms/step - loss: 0.0158 - accuracy: 0.9843 - val_loss: 0.0254 - val_accuracy: 0.9753\n",
      "Epoch 10/25\n",
      "56/56 [==============================] - 1s 18ms/step - loss: 0.0100 - accuracy: 0.9899 - val_loss: 0.0303 - val_accuracy: 0.9630\n",
      "Epoch 11/25\n",
      "56/56 [==============================] - 1s 18ms/step - loss: 0.0066 - accuracy: 0.9947 - val_loss: 0.0240 - val_accuracy: 0.9765\n",
      "Epoch 12/25\n",
      "56/56 [==============================] - 1s 17ms/step - loss: 0.0046 - accuracy: 0.9964 - val_loss: 0.0225 - val_accuracy: 0.9776\n",
      "Epoch 13/25\n",
      "56/56 [==============================] - 1s 17ms/step - loss: 0.0039 - accuracy: 0.9961 - val_loss: 0.0221 - val_accuracy: 0.9787\n",
      "Epoch 14/25\n",
      "56/56 [==============================] - 1s 17ms/step - loss: 0.0019 - accuracy: 0.9992 - val_loss: 0.0214 - val_accuracy: 0.9776\n",
      "Epoch 15/25\n",
      "56/56 [==============================] - 1s 17ms/step - loss: 0.0025 - accuracy: 0.9980 - val_loss: 0.0230 - val_accuracy: 0.9765\n",
      "Epoch 16/25\n",
      "56/56 [==============================] - 1s 17ms/step - loss: 0.0020 - accuracy: 0.9986 - val_loss: 0.0313 - val_accuracy: 0.9585\n",
      "Epoch 17/25\n",
      "56/56 [==============================] - 1s 18ms/step - loss: 0.0012 - accuracy: 0.9992 - val_loss: 0.0204 - val_accuracy: 0.9787\n",
      "Epoch 18/25\n",
      "56/56 [==============================] - 1s 17ms/step - loss: 0.0013 - accuracy: 0.9989 - val_loss: 0.0230 - val_accuracy: 0.9753\n",
      "Epoch 19/25\n",
      "56/56 [==============================] - 1s 17ms/step - loss: 0.0014 - accuracy: 0.9989 - val_loss: 0.0219 - val_accuracy: 0.9753\n",
      "Epoch 20/25\n",
      "56/56 [==============================] - 1s 18ms/step - loss: 7.1649e-04 - accuracy: 0.9997 - val_loss: 0.0205 - val_accuracy: 0.9798\n",
      "Epoch 21/25\n",
      "56/56 [==============================] - 1s 17ms/step - loss: 5.8776e-04 - accuracy: 0.9997 - val_loss: 0.0315 - val_accuracy: 0.9608\n",
      "Epoch 22/25\n",
      "56/56 [==============================] - 1s 17ms/step - loss: 5.5658e-04 - accuracy: 0.9997 - val_loss: 0.0223 - val_accuracy: 0.9753\n",
      "Epoch 23/25\n",
      "56/56 [==============================] - 1s 17ms/step - loss: 3.1035e-04 - accuracy: 1.0000 - val_loss: 0.0204 - val_accuracy: 0.9798\n",
      "Epoch 24/25\n",
      "56/56 [==============================] - 1s 17ms/step - loss: 2.6637e-04 - accuracy: 1.0000 - val_loss: 0.0203 - val_accuracy: 0.9798\n",
      "Epoch 25/25\n",
      "56/56 [==============================] - 1s 17ms/step - loss: 5.4879e-04 - accuracy: 0.9997 - val_loss: 0.0206 - val_accuracy: 0.9787\n"
     ]
    }
   ],
   "source": [
    "history = model.fit(x_train, y_train, batch_size=64, epochs=25, validation_split=0.2, verbose=1)"
   ]
  },
  {
   "cell_type": "code",
   "execution_count": 12,
   "id": "2c1c67f3",
   "metadata": {},
   "outputs": [
    {
     "data": {
      "image/png": "[encoded data removed]",
      "text/plain": [
       "<Figure size 640x480 with 1 Axes>"
      ]
     },
     "metadata": {},
     "output_type": "display_data"
    },
    {
     "data": {
      "image/png": "[encoded data removed]",
      "text/plain": [
       "<Figure size 640x480 with 1 Axes>"
      ]
     },
     "metadata": {},
     "output_type": "display_data"
    }
   ],
   "source": [
    "plt.plot(history.history['accuracy'])\n",
    "plt.plot(history.history['val_accuracy'])\n",
    "plt.title('Model accuracy')\n",
    "plt.ylabel('Accuracy')\n",
    "plt.xlabel('Epoch')\n",
    "plt.legend(['Train', 'Val'], loc='upper left')\n",
    "plt.show()\n",
    "#\n",
    "plt.plot(history.history['loss'])\n",
    "plt.plot(history.history['val_loss'])\n",
    "plt.title('Model loss')\n",
    "plt.ylabel('Loss')\n",
    "plt.xlabel('Epoch')\n",
    "plt.legend(['Train', 'Val'], loc='upper left')\n",
    "plt.show()"
   ]
  },
  {
   "cell_type": "code",
   "execution_count": 13,
   "id": "518df1e6",
   "metadata": {},
   "outputs": [
    {
     "name": "stdout",
     "output_type": "stream",
     "text": [
      "35/35 [==============================] - 0s 4ms/step - loss: 0.0253 - accuracy: 0.9704\n"
     ]
    },
    {
     "data": {
      "text/plain": [
       "[0.02531970664858818, 0.9704036116600037]"
      ]
     },
     "execution_count": 13,
     "metadata": {},
     "output_type": "execute_result"
    }
   ],
   "source": [
    "model.evaluate(x_test, y_test)"
   ]
  },
  {
   "cell_type": "code",
   "execution_count": 14,
   "id": "6ad16fd9",
   "metadata": {},
   "outputs": [
    {
     "name": "stdout",
     "output_type": "stream",
     "text": [
      "35/35 [==============================] - 0s 3ms/step\n"
     ]
    }
   ],
   "source": [
    "y_pred = model.predict(x_test)"
   ]
  },
  {
   "cell_type": "code",
   "execution_count": 15,
   "id": "39b4dff0",
   "metadata": {},
   "outputs": [
    {
     "name": "stdout",
     "output_type": "stream",
     "text": [
      "1/1 [==============================] - 0s 28ms/step\n",
      "[[1.0026773 0.       ]]\n",
      "ham\n"
     ]
    }
   ],
   "source": [
    "pred = model.predict(np.array([\"hello guys! how is the weather in your area?\"]))\n",
    "print(pred)\n",
    "print(['ham','spam'][np.argmax(pred)])"
   ]
  },
  {
   "cell_type": "code",
   "execution_count": null,
   "id": "5c6c2b30",
   "metadata": {},
   "outputs": [],
   "source": []
  }
 ],
 "metadata": {
  "kernelspec": {
   "display_name": "Python 3 (ipykernel)",
   "language": "python",
   "name": "python3"
  },
  "language_info": {
   "codemirror_mode": {
    "name": "ipython",
    "version": 3
   },
   "file_extension": ".py",
   "mimetype": "text/x-python",
   "name": "python",
   "nbconvert_exporter": "python",
   "pygments_lexer": "ipython3",
   "version": "3.8.0"
  }
 },
 "nbformat": 4,
 "nbformat_minor": 5
}
